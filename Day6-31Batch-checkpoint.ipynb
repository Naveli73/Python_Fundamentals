{
 "cells": [
  {
   "cell_type": "code",
   "execution_count": 1,
   "metadata": {},
   "outputs": [
    {
     "name": "stdout",
     "output_type": "stream",
     "text": [
      "['kinnu', 'swathi', 'praga', 'kiran']\n"
     ]
    }
   ],
   "source": [
    "#Introduction to looping statements\n",
    "friends= ['kinnu','swathi','praga','kiran']\n",
    "print(friends)"
   ]
  },
  {
   "cell_type": "code",
   "execution_count": 2,
   "metadata": {},
   "outputs": [
    {
     "data": {
      "text/plain": [
       "list"
      ]
     },
     "execution_count": 2,
     "metadata": {},
     "output_type": "execute_result"
    }
   ],
   "source": [
    "type(friends)"
   ]
  },
  {
   "cell_type": "code",
   "execution_count": 3,
   "metadata": {},
   "outputs": [
    {
     "name": "stdout",
     "output_type": "stream",
     "text": [
      "hi,how are you?Kinnu\n"
     ]
    }
   ],
   "source": [
    "#to say a meassage to each n every person\n",
    "print(f\"hi,how are you?{friends[0].title()}\")"
   ]
  },
  {
   "cell_type": "code",
   "execution_count": 4,
   "metadata": {},
   "outputs": [
    {
     "name": "stdout",
     "output_type": "stream",
     "text": [
      "hi,how are you?Swathi\n"
     ]
    }
   ],
   "source": [
    "print(f\"hi,how are you?{friends[1].title()}\")"
   ]
  },
  {
   "cell_type": "code",
   "execution_count": null,
   "metadata": {},
   "outputs": [],
   "source": [
    "#this takes so much of time and code. to re3duce this, python has for loop concept"
   ]
  },
  {
   "cell_type": "code",
   "execution_count": null,
   "metadata": {},
   "outputs": [],
   "source": [
    "#syntax:\n",
    "for tempvar in mainvar:\n",
    "    print(tempvar)"
   ]
  },
  {
   "cell_type": "code",
   "execution_count": 5,
   "metadata": {},
   "outputs": [
    {
     "name": "stdout",
     "output_type": "stream",
     "text": [
      "kinnu\n",
      "swathi\n",
      "praga\n",
      "kiran\n"
     ]
    }
   ],
   "source": [
    "for a in friends:\n",
    "    print(a)"
   ]
  },
  {
   "cell_type": "code",
   "execution_count": 7,
   "metadata": {},
   "outputs": [
    {
     "name": "stdout",
     "output_type": "stream",
     "text": [
      "hi,how are you?Kinnu\n",
      "hi,how are you?Swathi\n",
      "hi,how are you?Praga\n",
      "hi,how are you?Kiran\n"
     ]
    }
   ],
   "source": [
    "for a in friends:\n",
    "    print(f\"hi,how are you?{a.title()}\")"
   ]
  },
  {
   "cell_type": "code",
   "execution_count": 9,
   "metadata": {},
   "outputs": [
    {
     "name": "stdout",
     "output_type": "stream",
     "text": [
      "hi,how are you?Kinnu\n",
      "I'm fineKinnu\n",
      "\n",
      "hi,how are you?Swathi\n",
      "I'm fineSwathi\n",
      "\n",
      "hi,how are you?Praga\n",
      "I'm finePraga\n",
      "\n",
      "hi,how are you?Kiran\n",
      "I'm fineKiran\n",
      "\n"
     ]
    }
   ],
   "source": [
    "for a in friends:\n",
    "    print(f\"hi,how are you?{a.title()}\")\n",
    "    print(f\"I'm fine{a.title()}\\n\")"
   ]
  },
  {
   "cell_type": "code",
   "execution_count": 10,
   "metadata": {},
   "outputs": [
    {
     "name": "stdout",
     "output_type": "stream",
     "text": [
      "hi,how are you?Kinnu\n",
      "hi,how are you?Swathi\n",
      "hi,how are you?Praga\n",
      "hi,how are you?Kiran\n",
      "i'm fine, thanks\n"
     ]
    }
   ],
   "source": [
    "for a in friends:\n",
    "    print(f\"hi,how are you?{a.title()}\")\n",
    "print(\"i'm fine, thanks\")"
   ]
  },
  {
   "cell_type": "code",
   "execution_count": 11,
   "metadata": {},
   "outputs": [
    {
     "data": {
      "text/plain": [
       "3"
      ]
     },
     "execution_count": 11,
     "metadata": {},
     "output_type": "execute_result"
    }
   ],
   "source": [
    "#Organising the lists:\n",
    "#to count the no. of items in list\n",
    "languages = ['telugu','tamil','kannada']\n",
    "len(languages)"
   ]
  },
  {
   "cell_type": "code",
   "execution_count": null,
   "metadata": {},
   "outputs": [],
   "source": []
  }
 ],
 "metadata": {
  "kernelspec": {
   "display_name": "Python 3",
   "language": "python",
   "name": "python3"
  },
  "language_info": {
   "codemirror_mode": {
    "name": "ipython",
    "version": 3
   },
   "file_extension": ".py",
   "mimetype": "text/x-python",
   "name": "python",
   "nbconvert_exporter": "python",
   "pygments_lexer": "ipython3",
   "version": "3.8.5"
  }
 },
 "nbformat": 4,
 "nbformat_minor": 4
}
